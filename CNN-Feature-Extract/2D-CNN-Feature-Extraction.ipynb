{
 "cells": [
  {
   "cell_type": "code",
   "execution_count": null,
   "metadata": {
    "scrolled": true
   },
   "outputs": [],
   "source": [
    "import torch\n",
    "import torchvision\n",
    "import torchvision.transforms as transforms\n",
    "import matplotlib.pyplot as plt\n",
    "import time\n",
    "import numpy as np\n",
    "import os\n",
    "import shutil\n",
    "import  opennmt.inputters.record_inputter as inpu\n",
    "import tensorflow as tf\n",
    "import torch.utils.data as data\n",
    "from PIL import Image\n",
    "import os\n",
    "import os.path\n",
    "import pickle\n",
    "from scipy.spatial.distance import cosine, euclidean,correlation\n",
    "from sklearn.metrics import accuracy_score, confusion_matrix"
   ]
  },
  {
   "cell_type": "code",
   "execution_count": null,
   "metadata": {},
   "outputs": [],
   "source": [
    "# Model Definition"
   ]
  },
  {
   "cell_type": "code",
   "execution_count": null,
   "metadata": {},
   "outputs": [],
   "source": [
    "class I(torch.nn.Module):\n",
    "    def __init__(self):\n",
    "        super(I, self).__init__()\n",
    "        \n",
    "    def forward(self, x):\n",
    "        return x\n",
    "    \n",
    "    def extra_repr(self):\n",
    "        return 'identity'\n",
    "\n",
    "\n",
    "class MultiSignClf(torch.nn.Module):\n",
    "    def __init__(self):\n",
    "        super(MultiSignClf, self).__init__()\n",
    "        self.model = torchvision.models.inception_v3(pretrained=True)\n",
    "        self.model.fc = I()\n",
    "        self.model.aux_logits = False\n",
    "        self.fc_out = torch.nn.Linear(in_features=2048, out_features=61)\n",
    "        self.fc_aux_out = torch.nn.Linear(in_features=2048, out_features=45)\n",
    "        self.fc_same = torch.nn.Linear(in_features=4096, out_features=1024)\n",
    "        self.fc_same_hidden = torch.nn.Linear(in_features=1024, out_features=1024)\n",
    "        self.fc_same_out = torch.nn.Linear(in_features=1024, out_features=2)\n",
    "    def forward(self, x):\n",
    "        x = self.model(x)\n",
    "        l = len(x) // 2\n",
    "        out = self.fc_out(x[:l])\n",
    "        aux_out = self.fc_aux_out(x)\n",
    "        same_input = torch.cat([x[:l],x[l:]],dim=1)\n",
    "        same_out = self.fc_same(same_input)\n",
    "        same_out = torch.relu(same_out)\n",
    "        same_out = self.fc_same_hidden(same_out)\n",
    "        same_out = torch.relu(same_out)\n",
    "        same_out = self.fc_same_out(same_out)\n",
    "        return out, aux_out, same_out\n",
    "    \n",
    "    def get_feature(self,x):\n",
    "        x = self.model(x)\n",
    "        return x"
   ]
  },
  {
   "cell_type": "code",
   "execution_count": null,
   "metadata": {},
   "outputs": [],
   "source": [
    "class ImageFilelist(data.Dataset):\n",
    "    def __init__(self, image_list, transform=None):\n",
    "        self.imgs = image_list\n",
    "        self.transform = transform\n",
    "\n",
    "    def __getitem__(self, index):\n",
    "        impath, target = self.imgs[index]\n",
    "        img = self.img_loader(impath)\n",
    "        if self.transform is not None:\n",
    "            img = self.transform(img)\n",
    "        return img, target\n",
    "\n",
    "    def __len__(self):\n",
    "        return len(self.imgs)\n",
    "    \n",
    "    def img_loader(self,path):\n",
    "        return Image.open(path).convert('RGB')"
   ]
  },
  {
   "cell_type": "code",
   "execution_count": null,
   "metadata": {},
   "outputs": [],
   "source": [
    "def imshow(inp, title=None):\n",
    "    inp = inp.numpy().transpose((1, 2, 0))\n",
    "    mean = np.array([0.485, 0.456, 0.406])\n",
    "    std = np.array([0.229, 0.224, 0.225])\n",
    "    inp = std * inp + mean\n",
    "    inp = np.clip(inp, 0, 1)\n",
    "    plt.figure(figsize=(16,8))\n",
    "    plt.imshow(inp)\n",
    "    if title is not None:\n",
    "        plt.title(title)\n",
    "    plt.pause(0.001)  # pause a bit so that plots are updated"
   ]
  },
  {
   "cell_type": "code",
   "execution_count": null,
   "metadata": {},
   "outputs": [],
   "source": [
    "model_path = ... # Model path  \n",
    "data_type = 'test' # data type\n",
    "description = 'right-hand' # data description\n",
    "data_path = ... # Translation Data"
   ]
  },
  {
   "cell_type": "code",
   "execution_count": null,
   "metadata": {},
   "outputs": [],
   "source": [
    "def get_images_from_folder(path,masked=False):\n",
    "    folders = sorted(os.listdir(path))\n",
    "    img_paths = []\n",
    "    count= 0\n",
    "    for folder in folders:\n",
    "        full_path = path+'/'+folder + '/' + 'right/'\n",
    "        imgs = sorted(os.listdir(full_path))\n",
    "        c = 0\n",
    "        temp = []\n",
    "        for img in imgs:\n",
    "            if img.endswith('.png'):\n",
    "                name = full_path + img\n",
    "                name = name.split('/')[-4:]\n",
    "                name = '/'.join(name)\n",
    "                if masked:\n",
    "                    if name in confs:\n",
    "                        temp.append((full_path + img,count))\n",
    "                        if confs[name] > 0.4:\n",
    "                            img_paths.append((full_path + img,count))\n",
    "                            c += 1\n",
    "                else:\n",
    "                    img_paths.append((full_path + img,count))\n",
    "                    c += 1\n",
    "        if c == 0:\n",
    "            img_paths.extend(temp)\n",
    "        count += 1\n",
    "    return img_paths"
   ]
  },
  {
   "cell_type": "code",
   "execution_count": null,
   "metadata": {},
   "outputs": [],
   "source": [
    "device=torch.device(\"cuda:0\")\n",
    "img_size = 302\n",
    "batch_size = 128"
   ]
  },
  {
   "cell_type": "code",
   "execution_count": null,
   "metadata": {},
   "outputs": [],
   "source": [
    "trans = transforms.Compose([\n",
    "    transforms.Resize((img_size, img_size)),\n",
    "    transforms.CenterCrop(img_size-3),\n",
    "    transforms.ToTensor(),\n",
    "    transforms.Normalize(mean=[0.485, 0.456, 0.406], std=[0.229, 0.224, 0.225])\n",
    "])"
   ]
  },
  {
   "cell_type": "code",
   "execution_count": null,
   "metadata": {},
   "outputs": [],
   "source": [
    "image_list = get_images_from_folder(data_path,masked=False)\n",
    "data_folder = ImageFilelist(image_list=image_list, transform=trans)\n",
    "data_loader =torch.utils.data.DataLoader(data_folder, batch_size=batch_size,shuffle=False,num_workers=8)"
   ]
  },
  {
   "cell_type": "code",
   "execution_count": null,
   "metadata": {},
   "outputs": [],
   "source": [
    "it = iter(data_loader)"
   ]
  },
  {
   "cell_type": "code",
   "execution_count": null,
   "metadata": {},
   "outputs": [],
   "source": [
    "inputs, classes = next(it)\n",
    "\n",
    "# Make a grid from batch\n",
    "out = torchvision.utils.make_grid(inputs)\n",
    "\n",
    "imshow(out)"
   ]
  },
  {
   "cell_type": "code",
   "execution_count": null,
   "metadata": {},
   "outputs": [],
   "source": [
    "counts = np.array([x[1] for x in image_list ])\n",
    "counts = np.unique(counts)"
   ]
  },
  {
   "cell_type": "code",
   "execution_count": null,
   "metadata": {},
   "outputs": [],
   "source": [
    "num_img = len(data_folder.imgs)"
   ]
  },
  {
   "cell_type": "code",
   "execution_count": null,
   "metadata": {},
   "outputs": [],
   "source": [
    "model = torch.load(model_path,map_location=device)\n",
    "model = model.eval()\n",
    "model.to(device)\n",
    "features_array = np.zeros((num_img,2048))"
   ]
  },
  {
   "cell_type": "code",
   "execution_count": null,
   "metadata": {},
   "outputs": [],
   "source": [
    "(features_array == 0).sum() / features_array.reshape(-1).shape[0]"
   ]
  },
  {
   "cell_type": "code",
   "execution_count": null,
   "metadata": {},
   "outputs": [],
   "source": [
    "for i,(x,y) in enumerate(data_loader):\n",
    "    with torch.no_grad():\n",
    "        features_array[i*batch_size:(i+1)*batch_size,:] = model.get_feature(x.to(device)).cpu().numpy()\n",
    "    if (i+1) % 100 == 0:\n",
    "        print(i/len(data_loader),end='\\r')"
   ]
  },
  {
   "cell_type": "code",
   "execution_count": null,
   "metadata": {},
   "outputs": [],
   "source": [
    "label_list = list(map(lambda x: x[1],data_folder.imgs))\n",
    "_,label_cnts = np.unique(label_list,return_counts=True)"
   ]
  },
  {
   "cell_type": "code",
   "execution_count": null,
   "metadata": {},
   "outputs": [],
   "source": [
    "intervals = label_cnts.cumsum()\n",
    "intervals = np.insert(intervals,0,0)"
   ]
  },
  {
   "cell_type": "code",
   "execution_count": null,
   "metadata": {},
   "outputs": [],
   "source": [
    "file = tf.python_io.TFRecordWriter(data_type+'.tfrecord')\n",
    "dis_list = list()\n",
    "for ind in range(intervals.shape[0]-1):\n",
    "    start,end = intervals[ind:ind+2]\n",
    "    f = features_array[start:end][::-1]\n",
    "    inpu.write_sequence_record(f,file)\n",
    "    #  print(data_folder.imgs[start][0],data_folder.imgs[end][0])\n",
    "file.close()"
   ]
  },
  {
   "cell_type": "code",
   "execution_count": null,
   "metadata": {},
   "outputs": [],
   "source": []
  },
  {
   "cell_type": "code",
   "execution_count": null,
   "metadata": {},
   "outputs": [],
   "source": []
  },
  {
   "cell_type": "code",
   "execution_count": null,
   "metadata": {},
   "outputs": [],
   "source": []
  }
 ],
 "metadata": {
  "kernelspec": {
   "display_name": "Python 3",
   "language": "python",
   "name": "python3"
  },
  "language_info": {
   "codemirror_mode": {
    "name": "ipython",
    "version": 3
   },
   "file_extension": ".py",
   "mimetype": "text/x-python",
   "name": "python",
   "nbconvert_exporter": "python",
   "pygments_lexer": "ipython3",
   "version": "3.6.10"
  }
 },
 "nbformat": 4,
 "nbformat_minor": 2
}
