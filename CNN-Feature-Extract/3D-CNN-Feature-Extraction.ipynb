{
 "cells": [
  {
   "cell_type": "code",
   "execution_count": 1,
   "metadata": {
    "scrolled": true
   },
   "outputs": [],
   "source": [
    "import torch\n",
    "import torchvision\n",
    "import torchvision.transforms as transforms\n",
    "import matplotlib.pyplot as plt\n",
    "import time\n",
    "import numpy as np\n",
    "import os\n",
    "import shutil\n",
    "import  opennmt.inputters.record_inputter as inpu\n",
    "import tensorflow as tf\n",
    "import torch.utils.data as data\n",
    "from PIL import Image\n",
    "import os\n",
    "import os.path\n",
    "import pickle\n",
    "from scipy.spatial.distance import cosine, euclidean,correlation\n",
    "from sklearn.metrics import accuracy_score, confusion_matrix"
   ]
  },
  {
   "cell_type": "code",
   "execution_count": 2,
   "metadata": {},
   "outputs": [],
   "source": [
    "class I(torch.nn.Module):\n",
    "    def __init__(self):\n",
    "        super(I, self).__init__()\n",
    "        \n",
    "    def forward(self, x):\n",
    "        return x\n",
    "    \n",
    "    def extra_repr(self):\n",
    "        return 'identity'\n",
    "\n",
    "\n",
    "class VideoClass(torch.nn.Module):\n",
    "    def __init__(self):\n",
    "        super(VideoClass, self).__init__()\n",
    "        self.model = torchvision.models.video.r2plus1d_18(pretrained=True)\n",
    "        self.model.fc = I()\n",
    "        self.fc_out = torch.nn.Linear(in_features=512, out_features=61)\n",
    "\n",
    "    def forward(self,x):\n",
    "        x = self.model(x)\n",
    "        out = self.fc_out(x)\n",
    "        return out\n",
    "    \n",
    "    \n",
    "    def get_feature(self,x):\n",
    "        x = self.model(x)\n",
    "        return x\n",
    "    "
   ]
  },
  {
   "cell_type": "code",
   "execution_count": 3,
   "metadata": {},
   "outputs": [],
   "source": [
    "class ImageFilelist(data.Dataset):\n",
    "    def __init__(self, image_list,seq_size = 4, transform=None):\n",
    "        self.imgs = image_list\n",
    "        self.transform = transform\n",
    "        self.seq_size = seq_size\n",
    "\n",
    "    def __getitem__(self, index):\n",
    "        impaths, target = self.imgs[index]\n",
    "        vs = torch.zeros(3,4,112,112)\n",
    "        for i,impath in enumerate(impaths):\n",
    "            img = self.img_loader(impath)\n",
    "            img = self.transform(img)\n",
    "            vs[:,i,:,:] = img\n",
    "        return vs, target\n",
    "\n",
    "    def __len__(self):\n",
    "        return len(self.imgs)\n",
    "    \n",
    "    def img_loader(self,path):\n",
    "        return Image.open(path).convert('RGB')"
   ]
  },
  {
   "cell_type": "code",
   "execution_count": 4,
   "metadata": {},
   "outputs": [],
   "source": [
    "model_path = '/home/alptekin/Desktop/CNN_Train/StableModels/3D-CNN-Sign/model.pth'\n",
    "data_type = 'test' \n",
    "description = 'right-hand'"
   ]
  },
  {
   "cell_type": "code",
   "execution_count": 5,
   "metadata": {},
   "outputs": [],
   "source": [
    "def get_images_from_folder(path,masked=False):\n",
    "    folders = sorted(os.listdir(path))\n",
    "    img_paths = []\n",
    "    count= 0\n",
    "    for folder in folders:\n",
    "        full_path = path+'/'+folder + '/' + 'right/'\n",
    "        imgs = sorted(os.listdir(full_path))\n",
    "        c = 0\n",
    "        temp = []\n",
    "        for img in imgs:\n",
    "            if img.endswith('.png'):\n",
    "                name = full_path + img\n",
    "                name = name.split('/')[-4:]\n",
    "                name = '/'.join(name)\n",
    "                if masked:\n",
    "                    if name in confs:\n",
    "                        temp.append((full_path + img,count))\n",
    "                        if confs[name] > 0.4:\n",
    "                            img_paths.append((full_path + img,count))\n",
    "                            c += 1\n",
    "                else:\n",
    "                    img_paths.append((full_path + img,count))\n",
    "                    c += 1\n",
    "        if c == 0:\n",
    "            img_paths.extend(temp)\n",
    "        count += 1\n",
    "    return img_paths"
   ]
  },
  {
   "cell_type": "code",
   "execution_count": 6,
   "metadata": {},
   "outputs": [],
   "source": [
    "data_path = '/media/alptekin/ssd_data/Hand-Translation-Dataset/' + data_type"
   ]
  },
  {
   "cell_type": "code",
   "execution_count": 7,
   "metadata": {},
   "outputs": [],
   "source": [
    "device=torch.device(\"cuda:0\")\n",
    "img_size = 112\n",
    "batch_size = 128"
   ]
  },
  {
   "cell_type": "code",
   "execution_count": 8,
   "metadata": {},
   "outputs": [],
   "source": [
    "trans = transforms.Compose([\n",
    "    transforms.Resize((img_size, img_size)),\n",
    "    transforms.ToTensor(),\n",
    "    transforms.Normalize(mean=[0.43216, 0.394666, 0.37645], std=[0.22803, 0.22145, 0.216989])])"
   ]
  },
  {
   "cell_type": "code",
   "execution_count": 9,
   "metadata": {},
   "outputs": [],
   "source": [
    "image_list = get_images_from_folder(data_path,masked=False)"
   ]
  },
  {
   "cell_type": "code",
   "execution_count": 10,
   "metadata": {},
   "outputs": [],
   "source": [
    "videos = dict()\n",
    "for v,_ in image_list:\n",
    "    vn = v.split('/')[6]\n",
    "    if vn in videos:\n",
    "          videos[vn].append(v)\n",
    "    else:\n",
    "          videos[vn] = [v]"
   ]
  },
  {
   "cell_type": "code",
   "execution_count": 11,
   "metadata": {},
   "outputs": [],
   "source": [
    "vs = list()\n",
    "for key, value in videos.items():\n",
    "    label = key\n",
    "    video = list()\n",
    "    ln = len(value)\n",
    "    for i in range(0,ln,4):\n",
    "        s = value[i:i+4]\n",
    "        if len(s) == 4:\n",
    "            vs.append((s,label))\n",
    "        else:\n",
    "            k = 4- len(s)\n",
    "            s.extend([s[-1]]*k)\n",
    "            vs.append((s,label))"
   ]
  },
  {
   "cell_type": "code",
   "execution_count": 12,
   "metadata": {},
   "outputs": [],
   "source": [
    "data_folder = ImageFilelist(image_list=vs, transform=trans)\n",
    "data_loader =torch.utils.data.DataLoader(data_folder, batch_size=batch_size,shuffle=False,num_workers=8)"
   ]
  },
  {
   "cell_type": "code",
   "execution_count": 13,
   "metadata": {},
   "outputs": [],
   "source": [
    "counts = np.array([x[1] for x in image_list ])\n",
    "counts = np.unique(counts)"
   ]
  },
  {
   "cell_type": "code",
   "execution_count": 14,
   "metadata": {},
   "outputs": [],
   "source": [
    "num_img = len(data_folder.imgs)"
   ]
  },
  {
   "cell_type": "code",
   "execution_count": 15,
   "metadata": {},
   "outputs": [],
   "source": [
    "model = torch.load(model_path,map_location=device)\n",
    "model = model.eval()\n",
    "model.to(device)\n",
    "features_array = np.zeros((num_img,512))"
   ]
  },
  {
   "cell_type": "code",
   "execution_count": 16,
   "metadata": {},
   "outputs": [
    {
     "data": {
      "text/plain": [
       "1.0"
      ]
     },
     "execution_count": 16,
     "metadata": {},
     "output_type": "execute_result"
    }
   ],
   "source": [
    "(features_array == 0).sum() / features_array.reshape(-1).shape[0]"
   ]
  },
  {
   "cell_type": "code",
   "execution_count": 17,
   "metadata": {},
   "outputs": [
    {
     "name": "stdout",
     "output_type": "stream",
     "text": [
      "0.8461538461538461\r"
     ]
    }
   ],
   "source": [
    "for i,(x,y) in enumerate(data_loader):\n",
    "    with torch.no_grad():\n",
    "        features_array[i*batch_size:(i+1)*batch_size,:] = model.get_feature(x.to(device)).cpu().numpy()\n",
    "    if (i+1) % 100 == 0:\n",
    "        print(i/len(data_loader),end='\\r')"
   ]
  },
  {
   "cell_type": "code",
   "execution_count": 18,
   "metadata": {},
   "outputs": [],
   "source": [
    "label_list = list(map(lambda x: x[1],data_folder.imgs))\n",
    "_,label_cnts = np.unique(label_list,return_counts=True)"
   ]
  },
  {
   "cell_type": "code",
   "execution_count": 19,
   "metadata": {},
   "outputs": [],
   "source": [
    "intervals = label_cnts.cumsum()\n",
    "intervals = np.insert(intervals,0,0)"
   ]
  },
  {
   "cell_type": "code",
   "execution_count": 21,
   "metadata": {},
   "outputs": [],
   "source": [
    "file = tf.python_io.TFRecordWriter(data_type+'.tfrecord')\n",
    "dis_list = list()\n",
    "for ind in range(intervals.shape[0]-1):\n",
    "    start,end = intervals[ind:ind+2]\n",
    "    f = features_array[start:end][::-1]\n",
    "    inpu.write_sequence_record(f,file)\n",
    "    #print(data_folder.imgs[start][0],data_folder.imgs[end][0])\n",
    "file.close()"
   ]
  }
 ],
 "metadata": {
  "kernelspec": {
   "display_name": "Python 3",
   "language": "python",
   "name": "python3"
  },
  "language_info": {
   "codemirror_mode": {
    "name": "ipython",
    "version": 3
   },
   "file_extension": ".py",
   "mimetype": "text/x-python",
   "name": "python",
   "nbconvert_exporter": "python",
   "pygments_lexer": "ipython3",
   "version": "3.6.10"
  }
 },
 "nbformat": 4,
 "nbformat_minor": 2
}
